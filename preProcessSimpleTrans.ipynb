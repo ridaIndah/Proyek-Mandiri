{
  "nbformat": 4,
  "nbformat_minor": 0,
  "metadata": {
    "colab": {
      "name": "preProcessSimpleTrans.ipynb",
      "provenance": [],
      "collapsed_sections": [],
      "include_colab_link": true
    },
    "kernelspec": {
      "name": "python3",
      "display_name": "Python 3"
    },
    "language_info": {
      "name": "python"
    }
  },
  "cells": [
    {
      "cell_type": "markdown",
      "metadata": {
        "id": "view-in-github",
        "colab_type": "text"
      },
      "source": [
        "<a href=\"https://colab.research.google.com/github/ridaIndah/Proyek-Mandiri/blob/main/preProcessSimpleTrans.ipynb\" target=\"_parent\"><img src=\"https://colab.research.google.com/assets/colab-badge.svg\" alt=\"Open In Colab\"/></a>"
      ]
    },
    {
      "cell_type": "markdown",
      "metadata": {
        "id": "5gjRlvaLB_5k"
      },
      "source": [
        "**prerpocess data untuk coba simple transformer tanpa knowledge**"
      ]
    },
    {
      "cell_type": "code",
      "metadata": {
        "colab": {
          "base_uri": "https://localhost:8080/"
        },
        "id": "MP_8NkcuFTmB",
        "outputId": "6feb6a24-3cc0-4e59-e6df-ddfb6ee2640d"
      },
      "source": [
        "from google.colab import drive\n",
        "drive.mount('/content/drive')"
      ],
      "execution_count": 1,
      "outputs": [
        {
          "output_type": "stream",
          "text": [
            "Mounted at /content/drive\n"
          ],
          "name": "stdout"
        }
      ]
    },
    {
      "cell_type": "code",
      "metadata": {
        "id": "Y4e4mf3I7cyO"
      },
      "source": [
        "import spacy\n",
        "import argparse\n",
        "from tqdm import tqdm\n",
        "import pandas as pd\n",
        "import pickle\n",
        "import json\n",
        "from functools import partial\n",
        "from collections import Counter\n"
      ],
      "execution_count": 2,
      "outputs": []
    },
    {
      "cell_type": "code",
      "metadata": {
        "id": "sAxwBVLVOLC3"
      },
      "source": [
        "spacy_en = spacy.load(\"en\")"
      ],
      "execution_count": 3,
      "outputs": []
    },
    {
      "cell_type": "code",
      "metadata": {
        "id": "782y2SKLAcCR"
      },
      "source": [
        "#Fungsi untuk tokenisasi\n",
        "def clean(text, max_sequence_length):\n",
        "    \"\"\"\n",
        "        text: a piece of text in str\n",
        "        max_sequence_length: the max sequence length for each utterance\n",
        "        return: a list tokenized cleaned words\n",
        "    \"\"\"\n",
        "    # lower case\n",
        "    text = text.lower()\n",
        "    \n",
        "    # other cleaning processes\n",
        "    \n",
        "    # tokenization\n",
        "    return [token.text for token in spacy_en.tokenizer(text)][:max_sequence_length]\n"
      ],
      "execution_count": 4,
      "outputs": []
    },
    {
      "cell_type": "code",
      "metadata": {
        "id": "3SQzV5tlAQjp"
      },
      "source": [
        "#function for creating example i.e : utterance, speaker, emotion,mask\n",
        "def clean_examples(examples, max_sequence_length):\n",
        "    \"\"\"\n",
        "        examples: a list of examples, each example is a list of (utterance, speaker, emotion, mask)\n",
        "        max_sequence_length: the max sequence length for each utterance\n",
        "        return: a list tokenized cleaned examples\n",
        "    \"\"\"\n",
        "    cleaned_examples = []\n",
        "    for ex in tqdm(examples):\n",
        "        cleaned_examples.append([(clean(utterance, max_sequence_length), speaker, emotion, mask) \n",
        "                                 for utterance, speaker, emotion, mask in ex])\n",
        "    return cleaned_examples"
      ],
      "execution_count": 5,
      "outputs": []
    },
    {
      "cell_type": "markdown",
      "metadata": {
        "id": "yogoDmEsxsM7"
      },
      "source": [
        "read data"
      ]
    },
    {
      "cell_type": "code",
      "metadata": {
        "id": "UVu59oisYJVH"
      },
      "source": [
        "with open(\"/content/drive/MyDrive/Proyek Mandiri/data/dialogues.txt\", \"r\") as f:\n",
        "        conversations = f.readlines()"
      ],
      "execution_count": 7,
      "outputs": []
    },
    {
      "cell_type": "code",
      "metadata": {
        "id": "2j4P86dUYR9p"
      },
      "source": [
        "with open(\"/content/drive/MyDrive/Proyek Mandiri/data/dialogues_emotion.txt\", \"r\") as f:\n",
        "        emotions = f.readlines()"
      ],
      "execution_count": 8,
      "outputs": []
    },
    {
      "cell_type": "code",
      "metadata": {
        "colab": {
          "base_uri": "https://localhost:8080/"
        },
        "id": "5BwFV9elchFJ",
        "outputId": "da9b38ee-450f-4864-c59d-141baf12a371"
      },
      "source": [
        "print(conversations[0])"
      ],
      "execution_count": 9,
      "outputs": [
        {
          "output_type": "stream",
          "text": [
            "Say , Jim , how about going for a few beers after dinner ? __eou__ You know that is tempting but is really not good for our fitness . __eou__ What do you mean ? It will help us to relax . __eou__ Do you really think so ? I don't . It will just make us fat and act silly . Remember last time ? __eou__ I guess you are right.But what shall we do ? I don't feel like sitting at home . __eou__ I suggest a walk over to the gym where we can play singsong and meet some of our friends . __eou__ That's a good idea . I hear Mary and Sally often go there to play pingpong.Perhaps we can make a foursome with them . __eou__ Sounds great to me ! If they are willing , we could ask them to go dancing with us.That is excellent exercise and fun , too . __eou__ Good.Let ' s go now . __eou__ All right . __eou__\n",
            "\n"
          ],
          "name": "stdout"
        }
      ]
    },
    {
      "cell_type": "code",
      "metadata": {
        "colab": {
          "base_uri": "https://localhost:8080/"
        },
        "id": "zxlhBCkHcwp4",
        "outputId": "7dcaf887-1c9d-4eff-d5b6-1ea0350e3bb7"
      },
      "source": [
        "print(len(conversations))"
      ],
      "execution_count": 10,
      "outputs": [
        {
          "output_type": "stream",
          "text": [
            "13119\n"
          ],
          "name": "stdout"
        }
      ]
    },
    {
      "cell_type": "markdown",
      "metadata": {
        "id": "W7O3IbyCxxyi"
      },
      "source": [
        "pre process data, only utterance and emotion "
      ]
    },
    {
      "cell_type": "code",
      "metadata": {
        "colab": {
          "base_uri": "https://localhost:8080/"
        },
        "id": "3h1pX6bBd4ny",
        "outputId": "5c1728d7-c584-487c-d89a-8b9b5bfe0144"
      },
      "source": [
        "examples = []\n",
        "\n",
        "max_conv_length = max([len(conv.split(\"__eou__\")[:-1]) for conv in conversations])\n",
        "print(\"max_conv_length: \", max_conv_length)\n",
        "    \n",
        "i=0\n",
        "for conv, emo in zip(conversations, emotions):\n",
        "        utterances = [utter.strip() for utter in conv.split(\"__eou__\")][:-1]\n",
        "        i=i+1\n",
        "              \n",
        "        # add emotion\n",
        "        if (i==12119):\n",
        "            utter_emotions = [emotion.strip() for emotion in emo.split(\" \")]\n",
        "        else :\n",
        "            utter_emotions = [emotion.strip() for emotion in emo.split(\" \")][:-1]\n",
        "       \n",
        "\n",
        "        #utter_emotions = [emotion.strip() for emotion in emo.split(\" \")[:-1]]\n",
        "        #assert len(utterances) == len(speakers) == len(utter_emotions)\n",
        "        #print(\"Row :\", i, len(utterances), len(speakers),len(utter_emotions))\n",
        "          \n",
        "        assert len(utterances) == len(utter_emotions)    \n",
        "               \n",
        "        # create examples\n",
        "        examples.append(list(zip(utterances,utter_emotions)))"
      ],
      "execution_count": 12,
      "outputs": [
        {
          "output_type": "stream",
          "text": [
            "max_conv_length:  35\n"
          ],
          "name": "stdout"
        }
      ]
    },
    {
      "cell_type": "code",
      "metadata": {
        "colab": {
          "base_uri": "https://localhost:8080/"
        },
        "id": "MUBmuFgCYy0T",
        "outputId": "4f89bb4c-f54a-4a95-8829-c64be6070ac7"
      },
      "source": [
        "print(examples[0])"
      ],
      "execution_count": 13,
      "outputs": [
        {
          "output_type": "stream",
          "text": [
            "[('Say , Jim , how about going for a few beers after dinner ?', '0'), ('You know that is tempting but is really not good for our fitness .', '0'), ('What do you mean ? It will help us to relax .', '0'), (\"Do you really think so ? I don't . It will just make us fat and act silly . Remember last time ?\", '0'), (\"I guess you are right.But what shall we do ? I don't feel like sitting at home .\", '0'), ('I suggest a walk over to the gym where we can play singsong and meet some of our friends .', '0'), (\"That's a good idea . I hear Mary and Sally often go there to play pingpong.Perhaps we can make a foursome with them .\", '4'), ('Sounds great to me ! If they are willing , we could ask them to go dancing with us.That is excellent exercise and fun , too .', '4'), (\"Good.Let ' s go now .\", '4'), ('All right .', '4')]\n"
          ],
          "name": "stdout"
        }
      ]
    },
    {
      "cell_type": "code",
      "metadata": {
        "colab": {
          "base_uri": "https://localhost:8080/"
        },
        "id": "Hu51_P46Z7L8",
        "outputId": "a183ab7e-3eb2-4e89-f3ec-0a4d280fc056"
      },
      "source": [
        "print(len(examples))\n",
        "print(len(examples[0]))"
      ],
      "execution_count": 14,
      "outputs": [
        {
          "output_type": "stream",
          "text": [
            "13119\n",
            "10\n"
          ],
          "name": "stdout"
        }
      ]
    },
    {
      "cell_type": "markdown",
      "metadata": {
        "id": "wA5noRsh4T7S"
      },
      "source": [
        "pocess for utterance (single example)"
      ]
    },
    {
      "cell_type": "code",
      "metadata": {
        "id": "wHoG_uZlY7wP"
      },
      "source": [
        "#loop for take each utterance\n",
        "SingleExamples =[]\n",
        "for j in range (len(examples)):\n",
        "  contohUcapan = examples[j]\n",
        "  for x in range(len(examples[j])):\n",
        "    #print(contoh[x])\n",
        "    SingleExamples.append(contohUcapan[x])"
      ],
      "execution_count": 16,
      "outputs": []
    },
    {
      "cell_type": "code",
      "metadata": {
        "colab": {
          "base_uri": "https://localhost:8080/"
        },
        "id": "vTn6qoBdahZJ",
        "outputId": "e08f3a49-de1a-4b84-8c9d-dd3eb8b8ebc6"
      },
      "source": [
        "print(SingleExamples[0])\n",
        "print(len(SingleExamples))"
      ],
      "execution_count": 17,
      "outputs": [
        {
          "output_type": "stream",
          "text": [
            "('Say , Jim , how about going for a few beers after dinner ?', '0')\n",
            "102979\n"
          ],
          "name": "stdout"
        }
      ]
    },
    {
      "cell_type": "code",
      "metadata": {
        "id": "Q9Qt7nKDcY8M"
      },
      "source": [
        "#saving data to drive\n",
        "fields = ['utterance', 'emotion'] \n",
        "with open('/content/drive/MyDrive/Proyek Mandiri/data/DDNew2.csv', 'w') as f:\n",
        "    writer = csv.writer(f)\n",
        "    writer.writerow(fields)\n",
        "    writer.writerows(zip(ucapan, emosi))"
      ],
      "execution_count": null,
      "outputs": []
    },
    {
      "cell_type": "code",
      "metadata": {
        "id": "muFerGkFd6pP"
      },
      "source": [
        "import csv\n",
        "data = pd.read_csv('/content/drive/MyDrive/Proyek Mandiri/data/DDNew2.csv')"
      ],
      "execution_count": null,
      "outputs": []
    },
    {
      "cell_type": "code",
      "metadata": {
        "colab": {
          "base_uri": "https://localhost:8080/",
          "height": 204
        },
        "id": "xi287RI-d9lF",
        "outputId": "dd7a81c1-8e50-4415-ea06-3a369789ded2"
      },
      "source": [
        "#final data (utterance and emotions)\n",
        "data.head()"
      ],
      "execution_count": null,
      "outputs": [
        {
          "output_type": "execute_result",
          "data": {
            "text/html": [
              "<div>\n",
              "<style scoped>\n",
              "    .dataframe tbody tr th:only-of-type {\n",
              "        vertical-align: middle;\n",
              "    }\n",
              "\n",
              "    .dataframe tbody tr th {\n",
              "        vertical-align: top;\n",
              "    }\n",
              "\n",
              "    .dataframe thead th {\n",
              "        text-align: right;\n",
              "    }\n",
              "</style>\n",
              "<table border=\"1\" class=\"dataframe\">\n",
              "  <thead>\n",
              "    <tr style=\"text-align: right;\">\n",
              "      <th></th>\n",
              "      <th>utterance</th>\n",
              "      <th>emotion</th>\n",
              "    </tr>\n",
              "  </thead>\n",
              "  <tbody>\n",
              "    <tr>\n",
              "      <th>0</th>\n",
              "      <td>Say , Jim , how about going for a few beers af...</td>\n",
              "      <td>0</td>\n",
              "    </tr>\n",
              "    <tr>\n",
              "      <th>1</th>\n",
              "      <td>You know that is tempting but is really not go...</td>\n",
              "      <td>0</td>\n",
              "    </tr>\n",
              "    <tr>\n",
              "      <th>2</th>\n",
              "      <td>What do you mean ? It will help us to relax .</td>\n",
              "      <td>0</td>\n",
              "    </tr>\n",
              "    <tr>\n",
              "      <th>3</th>\n",
              "      <td>Do you really think so ? I don't . It will jus...</td>\n",
              "      <td>0</td>\n",
              "    </tr>\n",
              "    <tr>\n",
              "      <th>4</th>\n",
              "      <td>I guess you are right.But what shall we do ? I...</td>\n",
              "      <td>0</td>\n",
              "    </tr>\n",
              "  </tbody>\n",
              "</table>\n",
              "</div>"
            ],
            "text/plain": [
              "                                           utterance  emotion\n",
              "0  Say , Jim , how about going for a few beers af...        0\n",
              "1  You know that is tempting but is really not go...        0\n",
              "2      What do you mean ? It will help us to relax .        0\n",
              "3  Do you really think so ? I don't . It will jus...        0\n",
              "4  I guess you are right.But what shall we do ? I...        0"
            ]
          },
          "metadata": {
            "tags": []
          },
          "execution_count": 83
        }
      ]
    },
    {
      "cell_type": "code",
      "metadata": {
        "colab": {
          "base_uri": "https://localhost:8080/"
        },
        "id": "uyvObOPbeBNl",
        "outputId": "4913e5a9-dd65-4a1b-b49f-8935c36ba23d"
      },
      "source": [
        "len(data)"
      ],
      "execution_count": null,
      "outputs": [
        {
          "output_type": "execute_result",
          "data": {
            "text/plain": [
              "102979"
            ]
          },
          "metadata": {
            "tags": []
          },
          "execution_count": 84
        }
      ]
    }
  ]
}